{
 "cells": [
  {
   "cell_type": "code",
   "execution_count": 36,
   "metadata": {},
   "outputs": [],
   "source": [
    "import sys, os, fnmatch, datetime, subprocess, imp\n",
    "import numpy as np\n",
    "from collections import defaultdict\n",
    "import pandas as pd\n",
    "import matplotlib\n",
    "import matplotlib.pyplot as plt\n",
    "import seaborn as sns"
   ]
  },
  {
   "cell_type": "code",
   "execution_count": 2,
   "metadata": {},
   "outputs": [],
   "source": [
    "import re\n",
    "from itertools import islice"
   ]
  },
  {
   "cell_type": "code",
   "execution_count": 3,
   "metadata": {},
   "outputs": [],
   "source": [
    "lib = pd.read_csv('/home/clara/Desktop/data/061318_exonskipping_library.csv', index_col=0, usecols = ('Identifier number', 'Designed 61-bp target site (37i-24e, AG)')).T.to_dict()"
   ]
  },
  {
   "cell_type": "code",
   "execution_count": 20,
   "metadata": {},
   "outputs": [
    {
     "name": "stdout",
     "output_type": "stream",
     "text": [
      "5\n",
      "[]\n",
      "/home/clara/Desktop/data/b6/5\n",
      "12\n",
      "[]\n",
      "/home/clara/Desktop/data/b6/12\n",
      "1\n",
      "[]\n",
      "/home/clara/Desktop/data/b6/1\n",
      "6\n",
      "[]\n",
      "/home/clara/Desktop/data/b6/6\n",
      "13\n",
      "[]\n",
      "/home/clara/Desktop/data/b6/13\n",
      "7\n",
      "[]\n",
      "/home/clara/Desktop/data/b6/7\n",
      "3\n",
      "[]\n",
      "/home/clara/Desktop/data/b6/3\n",
      "0\n",
      "[]\n",
      "/home/clara/Desktop/data/b6/0\n",
      "4\n",
      "[]\n",
      "/home/clara/Desktop/data/b6/4\n",
      "10\n",
      "[]\n",
      "/home/clara/Desktop/data/b6/10\n",
      "11\n",
      "[]\n",
      "/home/clara/Desktop/data/b6/11\n",
      "9\n",
      "[]\n",
      "/home/clara/Desktop/data/b6/9\n",
      "2\n",
      "[]\n",
      "/home/clara/Desktop/data/b6/2\n",
      "14\n",
      "[]\n",
      "/home/clara/Desktop/data/b6/14\n",
      "8\n",
      "[]\n",
      "/home/clara/Desktop/data/b6/8\n"
     ]
    }
   ],
   "source": [
    "for root, subdirs, files in os.walk('.'):\n",
    "    subdirs[:] = [d for d in subdirs if '.' not in d]\n",
    "    for subdir in subdirs:\n",
    "        print(subdir)\n",
    "        for subroot, subsubdirs, subfiles in os.walk('/home/clara/Desktop/data/b6/'+subdir):\n",
    "            if '.ipynb' not in subroot:\n",
    "                subfiles[:] = [d for d in subfiles if d=='.ipynb_checkpoints']\n",
    "                print(subfiles)\n",
    "                print(subroot)"
   ]
  },
  {
   "cell_type": "code",
   "execution_count": null,
   "metadata": {},
   "outputs": [
    {
     "name": "stdout",
     "output_type": "stream",
     "text": [
      "13\n",
      "7\n"
     ]
    }
   ],
   "source": [
    "for root, subdirs, files in os.walk('.'):\n",
    "    subdirs[:] = [d for d in subdirs if not d[0] == '.']\n",
    "    for subdir in subdirs:\n",
    "        if int(subdir) not in [5,12,1,6]:\n",
    "            print(subdir)\n",
    "            for subroot, subsubdirs, subfiles in os.walk('/home/clara/Desktop/data/b6/'+subdir):\n",
    "                if '.ipynb' not in subroot:\n",
    "                    result = pd.DataFrame(columns = ['umi','id', 'genotype'])\n",
    "                    for file in subfiles:\n",
    "                        result = result.append(read_file_fast(os.path.join(subroot, file)))\n",
    "                    result.to_csv('new_result_'+subroot[28:]+'.csv', columns=('umi','id', 'genotype'),index=False)"
   ]
  },
  {
   "cell_type": "code",
   "execution_count": 253,
   "metadata": {},
   "outputs": [],
   "source": [
    "def read_file_fast(txt):\n",
    "    testdf = pd.DataFrame(columns = ['umi','id', 'genotype'])\n",
    "    with open(txt) as file:\n",
    "        while True:\n",
    "            next_n_lines = list(islice(file, 8))\n",
    "            if not next_n_lines or len(next_n_lines) != 8:\n",
    "                break\n",
    "                \n",
    "            umi = next_n_lines[1].strip()\n",
    "            ID = next_n_lines[2].strip()\n",
    "            read_quality = next_n_lines[3].strip() \n",
    "            if float(read_quality) < 95.0:\n",
    "                continue\n",
    "                \n",
    "            target_raw = next_n_lines[4].strip()\n",
    "            target = re.sub(r'\\W+', '', target_raw)\n",
    "            skip2 = next_n_lines[5].strip()\n",
    "            match = next_n_lines[6].strip()\n",
    "            \n",
    "            ag_loc = 36\n",
    "\n",
    "            match_site = match[ag_loc-5:ag_loc+7]\n",
    "            target_site = target_raw[ag_loc-5:ag_loc+7]\n",
    "\n",
    "            if '-' in target_site and '-' not in match_site:\n",
    "                testdf = testdf.append({'umi':umi, 'id':ID, 'genotype':'del'}, ignore_index=True)\n",
    "            elif '-' in match_site and '-' not in target_site:\n",
    "                testdf = testdf.append({'umi':umi, 'id':ID, 'genotype':'sub'}, ignore_index=True)\n",
    "    return testdf"
   ]
  },
  {
   "cell_type": "markdown",
   "metadata": {},
   "source": [
    "### Why are there some results that do not have an explicit splice site at the determined location (around 25-40 region of the read?)"
   ]
  },
  {
   "cell_type": "code",
   "execution_count": null,
   "metadata": {},
   "outputs": [],
   "source": [
    "def read_file(txt, testdf):\n",
    "    with open(txt) as file:\n",
    "        for line in file:\n",
    "            if line == '>1\\n':\n",
    "                umi = file.next().strip()\n",
    "                ID = file.next().strip()\n",
    "\n",
    "                if not testdf.loc[(testdf.umi == umi)&(testdf.id == ID)].empty:\n",
    "                    continue\n",
    "\n",
    "                skip = file.next()\n",
    "\n",
    "                target_raw = file.next().strip()\n",
    "                target = re.sub(r'\\W+', '', target_raw)\n",
    "\n",
    "                skip2 = file.next()\n",
    "\n",
    "                match = file.next()\n",
    "                \n",
    "                if 'AG' in target[25:45]:\n",
    "                    ag_loc = target.index('AG', 25, 45)\n",
    "                    \n",
    "                    match_site = match[ag_loc-10:ag_loc+12]\n",
    "                    target_site = target[ag_loc-10:ag_loc+12]\n",
    "\n",
    "                    if '-' in target_site and '-' not in match_site:\n",
    "                        print('insertion')\n",
    "                        testdf = testdf.append({'umi':umi, 'id':ID}, ignore_index=True)\n",
    "                    elif '-' in match_site and '-' not in target_site:\n",
    "                        testdf = testdf.append({'umi':umi, 'id':ID}, ignore_index=True)\n",
    "                    elif '-' in target_site and '-' in match_site:\n",
    "                        print(skip)\n",
    "                    elif '.' in skip2[ag_loc-10:ag_loc+12]:\n",
    "                        testdf = testdf.append({'umi':umi, 'id':ID}, ignore_index=True)\n",
    "#                 else:\n",
    "#                     print('LAKJSHDLKAJSDHLAKSJDHLKASJDH')\n",
    "    return testdf"
   ]
  },
  {
   "cell_type": "code",
   "execution_count": 4,
   "metadata": {},
   "outputs": [
    {
     "name": "stdout",
     "output_type": "stream",
     "text": [
      "219368\n",
      "219374\n",
      "213008\n",
      "216579\n",
      "214905\n",
      "18970\n",
      "210718\n",
      "211734\n",
      "214930\n",
      "220225\n",
      "222971\n",
      "222565\n",
      "218836\n",
      "208457\n",
      "18183\n"
     ]
    }
   ],
   "source": [
    "all_genotypes_df = pd.DataFrame(columns = ('umi','id')) \n",
    "for x in range(15):\n",
    "    file = pd.read_csv('result_'+str(x)+'.csv')\n",
    "    print(file.shape[0])\n",
    "    all_genotypes_df = all_genotypes_df.append(file)"
   ]
  },
  {
   "cell_type": "code",
   "execution_count": 203,
   "metadata": {},
   "outputs": [],
   "source": [
    "all_genotypes_df.to_csv('b3_cas9.csv',index=False)"
   ]
  },
  {
   "cell_type": "markdown",
   "metadata": {},
   "source": [
    "### What happens if there are two ids that both create mutant genotyps with one umi tag? - remove both "
   ]
  },
  {
   "cell_type": "markdown",
   "metadata": {},
   "source": [
    "### Should we do the 80% filtering for this as well? Or would it retain ttoo many mistake matches and therefore splice results --> only 100% in the code below, can modify later"
   ]
  },
  {
   "cell_type": "markdown",
   "metadata": {},
   "source": [
    "this is wrong --> IDs are still incorrect at this step --> cannot filter for unique matches"
   ]
  },
  {
   "cell_type": "code",
   "execution_count": 5,
   "metadata": {},
   "outputs": [],
   "source": [
    "# genotype_count = all_genotypes_df.groupby('umi')['id'].nunique().reset_index('umi').rename(columns = {'id':'id_count'})\n",
    "# genotype_uniq_umi = genotype_count.loc[genotype_count.id_count==1]\n",
    "# genotype_unique = all_genotypes_df[all_genotypes_df.umi.isin(genotype_uniq_umi['umi'])]"
   ]
  },
  {
   "cell_type": "markdown",
   "metadata": {},
   "source": [
    "### What is the overlap between UMIs identified in b7 and the umis found via this method? "
   ]
  },
  {
   "cell_type": "code",
   "execution_count": 18,
   "metadata": {},
   "outputs": [
    {
     "name": "stdout",
     "output_type": "stream",
     "text": [
      "51%\n"
     ]
    }
   ],
   "source": [
    "b7 = pd.read_csv('/home/clara/Desktop/data/b7_complete.csv')\n",
    "b7_dict = pd.Series(b7.id.values, index = b7.umi).to_dict()\n",
    "\n",
    "all_genotypes_df['in_b7'] = all_genotypes_df.umi.apply(lambda x: True if x in b7_dict else False)\n",
    "genotype_in_b7 = all_genotypes_df.loc[lambda x: x.in_b7 == True]\n",
    "\n",
    "genotype_count = genotype_in_b7.groupby('umi')['id'].nunique().reset_index('umi').rename(columns = {'id':'id_count'})\n",
    "genotype_uniq_umi = genotype_count.loc[genotype_count.id_count==1]\n",
    "genotype_unique = genotype_in_b7[genotype_in_b7.umi.isin(genotype_uniq_umi['umi'])]\n",
    "\n",
    "print(str(int((genotype_unique.shape[0])/float(genotype_in_b7.shape[0])*100))+'%')"
   ]
  },
  {
   "cell_type": "code",
   "execution_count": 19,
   "metadata": {},
   "outputs": [
    {
     "name": "stderr",
     "output_type": "stream",
     "text": [
      "/usr/local/lib/python2.7/dist-packages/ipykernel_launcher.py:1: SettingWithCopyWarning: \n",
      "A value is trying to be set on a copy of a slice from a DataFrame.\n",
      "Try using .loc[row_indexer,col_indexer] = value instead\n",
      "\n",
      "See the caveats in the documentation: http://pandas.pydata.org/pandas-docs/stable/indexing.html#indexing-view-versus-copy\n",
      "  \"\"\"Entry point for launching an IPython kernel.\n",
      "/usr/local/lib/python2.7/dist-packages/ipykernel_launcher.py:2: SettingWithCopyWarning: \n",
      "A value is trying to be set on a copy of a slice from a DataFrame.\n",
      "Try using .loc[row_indexer,col_indexer] = value instead\n",
      "\n",
      "See the caveats in the documentation: http://pandas.pydata.org/pandas-docs/stable/indexing.html#indexing-view-versus-copy\n",
      "  \n",
      "/usr/local/lib/python2.7/dist-packages/ipykernel_launcher.py:3: SettingWithCopyWarning: \n",
      "A value is trying to be set on a copy of a slice from a DataFrame.\n",
      "Try using .loc[row_indexer,col_indexer] = value instead\n",
      "\n",
      "See the caveats in the documentation: http://pandas.pydata.org/pandas-docs/stable/indexing.html#indexing-view-versus-copy\n",
      "  This is separate from the ipykernel package so we can avoid doing imports until\n"
     ]
    }
   ],
   "source": [
    "genotype_unique['b7_id'] = genotype_unique.umi.apply(lambda x: b7_dict[x])\n",
    "genotype_unique['b3_target'] = genotype_unique.id.apply(lambda x: lib[x]['Designed 61-bp target site (37i-24e, AG)'])\n",
    "genotype_unique['b7_target'] = genotype_unique.b7_id.apply(lambda x: lib[x]['Designed 61-bp target site (37i-24e, AG)'])\n",
    "genotype_match = genotype_unique.loc[genotype_unique.b3_target == genotype_unique.b7_target]\n",
    "genotype_non = genotype_unique.loc[genotype_unique.b3_target != genotype_unique.b7_target]"
   ]
  },
  {
   "cell_type": "code",
   "execution_count": 20,
   "metadata": {},
   "outputs": [
    {
     "name": "stdout",
     "output_type": "stream",
     "text": [
      "(398833, 332712)\n",
      "around 54 percent\n"
     ]
    }
   ],
   "source": [
    "geno_match = genotype_match.shape[0] \n",
    "geno_no = genotype_non.shape[0]\n",
    "print(geno_match, geno_no)\n",
    "print('around '+str(int(float(geno_match)/float(geno_match+geno_no)*100))+' percent')"
   ]
  },
  {
   "cell_type": "markdown",
   "metadata": {},
   "source": [
    "### How much new information does this method provide with regards to b3 UMI and ID pairings? How about new splice results for b6?"
   ]
  },
  {
   "cell_type": "code",
   "execution_count": 21,
   "metadata": {},
   "outputs": [
    {
     "name": "stderr",
     "output_type": "stream",
     "text": [
      "/usr/local/lib/python2.7/dist-packages/ipykernel_launcher.py:3: SettingWithCopyWarning: \n",
      "A value is trying to be set on a copy of a slice from a DataFrame.\n",
      "Try using .loc[row_indexer,col_indexer] = value instead\n",
      "\n",
      "See the caveats in the documentation: http://pandas.pydata.org/pandas-docs/stable/indexing.html#indexing-view-versus-copy\n",
      "  This is separate from the ipykernel package so we can avoid doing imports until\n"
     ]
    },
    {
     "data": {
      "text/plain": [
       "0.9725223339091801"
      ]
     },
     "execution_count": 21,
     "metadata": {},
     "output_type": "execute_result"
    }
   ],
   "source": [
    "b3_match = pd.read_csv('/home/clara/Desktop/data/b3_match.csv')\n",
    "b3_dict = pd.Series(b3_match.id.values, index = b3_match.umi).to_dict()\n",
    "genotype_match['b3_match'] = genotype_match.umi.apply(lambda x: True if x in b3_dict else False)\n",
    "genotype_match.loc[lambda x: x.b3_match == True].shape[0]/float(genotype_match.shape[0]) # contains all umis in genotype but not b3 "
   ]
  },
  {
   "cell_type": "code",
   "execution_count": 10,
   "metadata": {},
   "outputs": [],
   "source": [
    "b6_match = pd.read_csv('/home/clara/Desktop/data/b6_processed.csv')"
   ]
  },
  {
   "cell_type": "code",
   "execution_count": 22,
   "metadata": {},
   "outputs": [],
   "source": [
    "genotype_dict = pd.Series(genotype_match.b7_id.values, index = genotype_match.umi).to_dict()"
   ]
  },
  {
   "cell_type": "code",
   "execution_count": 12,
   "metadata": {},
   "outputs": [],
   "source": [
    "def remove_ggc(umi):\n",
    "    return umi[:-3]"
   ]
  },
  {
   "cell_type": "code",
   "execution_count": 200,
   "metadata": {},
   "outputs": [],
   "source": [
    "b6 = pd.read_csv('/home/clara/Desktop/data/b6.csv')\n",
    "\n",
    "b6_nodups = b6.dropna()\n",
    "b6_nodups.slice_type = b6_nodups.slice_type.apply(lambda x: x.strip())\n",
    "b6_nodups = b6_nodups[~b6_nodups.umi.str.contains(\"N\")]\n",
    "b6_nodups.umi = b6_nodups.umi.apply(lambda x: remove_ggc(x))\n",
    "b6_nodups['geno_umi'] = b6_nodups['umi'].apply(lambda x: True if x in genotype_dict else False)\n",
    "b6_genotype_match = b6_nodups.loc[b6_nodups['geno_umi'] == True]"
   ]
  },
  {
   "cell_type": "markdown",
   "metadata": {},
   "source": [
    "### Check how many unique Ids are represented --> how to do this for c and cryptic slices? by matching UMI"
   ]
  },
  {
   "cell_type": "code",
   "execution_count": 201,
   "metadata": {},
   "outputs": [
    {
     "name": "stderr",
     "output_type": "stream",
     "text": [
      "/usr/local/lib/python2.7/dist-packages/ipykernel_launcher.py:1: SettingWithCopyWarning: \n",
      "A value is trying to be set on a copy of a slice from a DataFrame.\n",
      "Try using .loc[row_indexer,col_indexer] = value instead\n",
      "\n",
      "See the caveats in the documentation: http://pandas.pydata.org/pandas-docs/stable/indexing.html#indexing-view-versus-copy\n",
      "  \"\"\"Entry point for launching an IPython kernel.\n"
     ]
    },
    {
     "data": {
      "text/plain": [
       "3581"
      ]
     },
     "execution_count": 201,
     "metadata": {},
     "output_type": "execute_result"
    }
   ],
   "source": [
    "b6_genotype_match['real_id'] = b6_genotype_match.umi.apply(lambda x: genotype_dict[x])\n",
    "b6_genotype_match.real_id.nunique()"
   ]
  },
  {
   "cell_type": "code",
   "execution_count": 25,
   "metadata": {},
   "outputs": [
    {
     "data": {
      "text/plain": [
       "70848"
      ]
     },
     "execution_count": 25,
     "metadata": {},
     "output_type": "execute_result"
    }
   ],
   "source": [
    "b6_genotype_match.shape[0]"
   ]
  },
  {
   "cell_type": "code",
   "execution_count": 202,
   "metadata": {},
   "outputs": [],
   "source": [
    "b6_genotype_match = b6_genotype_match.drop('id', axis=1).rename(columns = {'real_id':'id'}).drop('geno_umi', axis=1)\n",
    "b6_genotype_match.to_csv('b6_cas9_match.csv', index = False)"
   ]
  },
  {
   "cell_type": "markdown",
   "metadata": {},
   "source": [
    "## Number of UMIs at each stage of processing - plots"
   ]
  },
  {
   "cell_type": "code",
   "execution_count": 16,
   "metadata": {},
   "outputs": [],
   "source": [
    "b3 = pd.read_csv('/home/clara/Desktop/data/b3.csv')"
   ]
  },
  {
   "cell_type": "code",
   "execution_count": 59,
   "metadata": {},
   "outputs": [
    {
     "data": {
      "image/png": "[encoded data removed]",
      "text/plain": [
       "<Figure size 1440x720 with 1 Axes>"
      ]
     },
     "metadata": {
      "needs_background": "light"
     },
     "output_type": "display_data"
    }
   ],
   "source": [
    "height = [b3.dropna().shape[0], b6.dropna().shape[0], genotype_unique.shape[0], genotype_match.shape[0], b6_genotype_match.shape[0], b3_match.shape[0], b6_match.shape[0]]\n",
    "x = [1,2,3,4,5,6,7]\n",
    "f = plt.figure()\n",
    "f.set_size_inches(20,10)\n",
    "f.suptitle('Raw UMI read count at each stage of cas9 treated data processing (mesc)', y = 1.05)\n",
    "plot = plt.bar(x, height, width=0.5)\n",
    "plt.xticks([1,2,3,4,5,6,7], ['b3 raw', 'b6 raw', 'b3: cas9 and in b7','b3: cas9 and b7 ID matched',\n",
    "               'b6: found in cas9/genotype dataset',\n",
    "               'b3 (>80%) and matched with b7 target id',\n",
    "               'b6: matched target ids in b3'], rotation = 90)\n",
    "\n",
    "rects = plot.patches\n",
    "\n",
    "for rect, label in zip(rects, height):\n",
    "    height = rect.get_height()\n",
    "    plt.text(rect.get_x() + rect.get_width() / 2, height + 5, label,\n",
    "            ha='center', va='bottom')\n",
    "plt.tight_layout()"
   ]
  },
  {
   "cell_type": "code",
   "execution_count": 67,
   "metadata": {},
   "outputs": [
    {
     "data": {
      "image/png": "[encoded data removed]",
      "text/plain": [
       "<Figure size 1440x720 with 1 Axes>"
      ]
     },
     "metadata": {
      "needs_background": "light"
     },
     "output_type": "display_data"
    }
   ],
   "source": [
    "data = [b3.dropna(), b6.dropna(), genotype_unique, genotype_match, b6_genotype_match, b3_match, b6_match]\n",
    "height = np.array(map(lambda x: x.umi.nunique(), data))\n",
    "x = [1,2,3,4,5,6,7]\n",
    "f = plt.figure()\n",
    "f.set_size_inches(20,10)\n",
    "f.suptitle('unique UMI count at each stage of cas9 treated data processing (mesc)', y = 1.05)\n",
    "plot = plt.bar(x, height, width=0.5)\n",
    "plt.xticks([1,2,3,4,5,6,7], ['b3 raw', 'b6 raw', 'b3: cas9 and in b7','b3: cas9 and b7 ID matched',\n",
    "               'b6: found in cas9/genotype dataset',\n",
    "               'b3 (>80%) and matched with b7 target id',\n",
    "               'b6: matched target ids in b3'], rotation = 90)\n",
    "\n",
    "rects = plot.patches\n",
    "\n",
    "for rect, label in zip(rects, height):\n",
    "    height = rect.get_height()\n",
    "    plt.text(rect.get_x() + rect.get_width() / 2, height + 5, label,\n",
    "            ha='center', va='bottom')\n",
    "plt.tight_layout()"
   ]
  },
  {
   "cell_type": "code",
   "execution_count": 64,
   "metadata": {},
   "outputs": [],
   "source": [
    "b6_match_all = pd.read_csv('/home/clara/Desktop/data/b6_match_all.csv')"
   ]
  },
  {
   "cell_type": "code",
   "execution_count": 65,
   "metadata": {},
   "outputs": [
    {
     "data": {
      "image/png": "[encoded data removed]",
      "text/plain": [
       "<Figure size 1440x720 with 1 Axes>"
      ]
     },
     "metadata": {
      "needs_background": "light"
     },
     "output_type": "display_data"
    }
   ],
   "source": [
    "height = [genotype_match.b7_id.nunique(), b6_genotype_match.real_id.nunique(), b3_match.b7_id.nunique(), b6_match_all.real_id.nunique()]\n",
    "x = [1,2,3,4]\n",
    "f = plt.figure()\n",
    "f.set_size_inches(20,10)\n",
    "f.suptitle('Unique ID count comparison between cas9 filtering and all splice type filtering', y = 1.05)\n",
    "plot = plt.bar(x, height, width=0.5)\n",
    "plt.xticks([1,2,3,4], ['b3: cas9 and b7 ID matched',\n",
    "               'b6: found in cas9/genotype dataset',\n",
    "               'b3 (>80%) and matched with b7 target id',\n",
    "               'b6: matched target ids in b3 (all splice_types)'], rotation = 90)\n",
    "\n",
    "rects = plot.patches\n",
    "\n",
    "for rect, label in zip(rects, height):\n",
    "    height = rect.get_height()\n",
    "    plt.text(rect.get_x() + rect.get_width() / 2, height + 5, label,\n",
    "            ha='center', va='bottom')\n",
    "plt.tight_layout()"
   ]
  }
 ],
 "metadata": {
  "kernelspec": {
   "display_name": "Python 2",
   "language": "python",
   "name": "python2"
  },
  "language_info": {
   "codemirror_mode": {
    "name": "ipython",
    "version": 2
   },
   "file_extension": ".py",
   "mimetype": "text/x-python",
   "name": "python",
   "nbconvert_exporter": "python",
   "pygments_lexer": "ipython2",
   "version": "2.7.12"
  }
 },
 "nbformat": 4,
 "nbformat_minor": 2
}
