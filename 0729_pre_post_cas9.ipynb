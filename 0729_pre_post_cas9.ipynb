{
 "cells": [
  {
   "cell_type": "code",
   "execution_count": null,
   "metadata": {},
   "outputs": [],
   "source": [
    "############################\n",
    "# Import data from _______. Contains pre-processed b3, b6, b7 data where unique UMIs/target pairings are matched from gDNA to unspliced to spliced, and unique means >80% match\n",
    "# from one UMI to only one target. Unspliced to spliced matches are made by choosing only UMIs that are present in b-type splicing results (otherwise it is impossible to \n",
    "# determine whether the correct target ID was retained with each UMI)\n",
    "############################"
   ]
  },
  {
   "cell_type": "code",
   "execution_count": 1,
   "metadata": {},
   "outputs": [],
   "source": [
    "import sys, os, fnmatch, datetime, subprocess, imp\n",
    "import numpy as np\n",
    "from collections import defaultdict\n",
    "import pandas as pd\n",
    "import matplotlib\n",
    "import matplotlib.pyplot as plt\n",
    "import seaborn as sns"
   ]
  },
  {
   "cell_type": "code",
   "execution_count": 4,
   "metadata": {},
   "outputs": [
    {
     "data": {
      "text/plain": [
       "1742"
      ]
     },
     "execution_count": 4,
     "metadata": {},
     "output_type": "execute_result"
    }
   ],
   "source": [
    "splice_group_pre.id.nunique()"
   ]
  },
  {
   "cell_type": "code",
   "execution_count": 8,
   "metadata": {},
   "outputs": [
    {
     "data": {
      "text/plain": [
       "<matplotlib.legend.Legend at 0x7f5fd69bffd0>"
      ]
     },
     "execution_count": 8,
     "metadata": {},
     "output_type": "execute_result"
    },
    {
     "data": {
      "image/png": "[encoded data removed]",
      "text/plain": [
       "<Figure size 1080x576 with 1 Axes>"
      ]
     },
     "metadata": {
      "needs_background": "light"
     },
     "output_type": "display_data"
    }
   ],
   "source": [
    "b6_post = pd.read_csv('b6_processed.csv')\n",
    "b6_post = b6_post.rename(columns={'real_id':'id'})\n",
    "b6_pre = pd.read_csv('b6_pre_processed.csv')\n",
    "\n",
    "splice_group = pd.DataFrame(b6_post.groupby('id')['slice_type'].value_counts(normalize=True)).rename(columns = {'slice_type':'percent'}).reset_index('slice_type').reset_index('id')\n",
    "splice_group_pre = pd.DataFrame(b6_pre.groupby('id')['slice_type'].value_counts(normalize=True)).rename(columns = {'slice_type':'percent'}).reset_index('slice_type').reset_index('id')\n",
    "\n",
    "total1 = splice_group.id.nunique()\n",
    "total2 = splice_group_pre.id.nunique()\n",
    "\n",
    "f = plt.figure()\n",
    "f.set_size_inches(15,8)\n",
    "plt.bar([1,2,3], [float(splice_group.loc[(splice_group.slice_type == 'b')&(splice_group.percent >0.5)].id.nunique())/float(total1),\n",
    "         splice_group.loc[(splice_group.slice_type == 'c')&(splice_group.percent >0.5)].id.nunique()/float(total1),\n",
    "         splice_group.loc[(splice_group.slice_type == 'cryptic')&(splice_group.percent > 0.5)].id.nunique()/float(total1)],\n",
    "       width = 0.5, color = 'b')\n",
    "\n",
    "plt.bar([1.5,2.5,3.5], [splice_group_pre.loc[(splice_group_pre.slice_type == 'b')&(splice_group_pre.percent >0.5)].id.nunique()/float(total2),\n",
    "         splice_group_pre.loc[(splice_group_pre.slice_type == 'c')&(splice_group_pre.percent >0.5)].id.nunique()/float(total2),\n",
    "         splice_group_pre.loc[(splice_group_pre.slice_type == 'cryptic')&(splice_group_pre.percent > 0.5)].id.nunique()/float(total2)],\n",
    "       width = 0.5, color = 'r')\n",
    "plt.xticks([1.25,2.25,3.25],['b','c','cryptic'])\n",
    "plt.legend(['post','pre'])"
   ]
  },
  {
   "cell_type": "code",
   "execution_count": 42,
   "metadata": {},
   "outputs": [
    {
     "data": {
      "text/plain": [
       "umi           28205\n",
       "id            28205\n",
       "slice_type    28205\n",
       "dtype: int64"
      ]
     },
     "execution_count": 42,
     "metadata": {},
     "output_type": "execute_result"
    }
   ],
   "source": [
    "b6_pre[b6_pre.slice_type == 'b'].count()"
   ]
  }
 ],
 "metadata": {
  "kernelspec": {
   "display_name": "Python 2",
   "language": "python",
   "name": "python2"
  },
  "language_info": {
   "codemirror_mode": {
    "name": "ipython",
    "version": 2
   },
   "file_extension": ".py",
   "mimetype": "text/x-python",
   "name": "python",
   "nbconvert_exporter": "python",
   "pygments_lexer": "ipython2",
   "version": "2.7.12"
  }
 },
 "nbformat": 4,
 "nbformat_minor": 2
}
